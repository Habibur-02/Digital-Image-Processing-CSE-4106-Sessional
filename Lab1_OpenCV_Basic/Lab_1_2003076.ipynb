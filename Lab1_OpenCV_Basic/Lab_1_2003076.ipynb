{
 "cells": [
  {
   "cell_type": "code",
   "execution_count": 4,
   "id": "e7026f4d",
   "metadata": {},
   "outputs": [],
   "source": [
    "import cv2\n",
    "\n",
    "# Load the image\n",
    "image = cv2.imread(\"tiger.jpg\")\n",
    "\n",
    "# Check if the image was loaded properly\n",
    "if image is None:\n",
    "    print(\"❌ Failed to load image. Check the file path.\")\n",
    "else:\n",
    "    # Display the image in a window\n",
    "    cv2.imshow(\"Tiger Image\", image)\n",
    "\n",
    "    # Wait for a key press and close the window\n",
    "    cv2.waitKey(0)\n",
    "    cv2.destroyAllWindows()\n"
   ]
  },
  {
   "cell_type": "code",
   "execution_count": 2,
   "id": "aa9a35d1",
   "metadata": {},
   "outputs": [],
   "source": [
    "import cv2\n",
    "import numpy as np\n",
    "\n",
    "# Read the image\n",
    "image1 = cv2.imread(\"tiger.jpg\")\n",
    "\n",
    "# Optional: check if image is loaded\n",
    "if image1 is None:\n",
    "    print(\"❌ Failed to load image. Check the file path.\")\n",
    "else:\n",
    "    # Save a copy of the image\n",
    "    cv2.imwrite(\"tiger_copy.jpg\", image1)\n",
    "\n",
    "    # Show the image in a window\n",
    "    cv2.imshow(\"Tiger Image\", image1)\n",
    "\n",
    "    # Wait for a key press and close the window\n",
    "    cv2.waitKey(0)\n",
    "    cv2.destroyAllWindows()\n"
   ]
  },
  {
   "cell_type": "code",
   "execution_count": 7,
   "id": "b07af1c9",
   "metadata": {},
   "outputs": [
    {
     "data": {
      "text/plain": [
       "array([[[ 82, 130, 164],\n",
       "        [ 79, 127, 161],\n",
       "        [ 73, 121, 155],\n",
       "        ...,\n",
       "        [ 32,  62,  81],\n",
       "        [ 30,  60,  79],\n",
       "        [ 28,  58,  77]],\n",
       "\n",
       "       [[ 80, 128, 162],\n",
       "        [ 80, 128, 162],\n",
       "        [ 77, 125, 159],\n",
       "        ...,\n",
       "        [ 30,  58,  75],\n",
       "        [ 28,  55,  75],\n",
       "        [ 26,  54,  71]],\n",
       "\n",
       "       [[ 79, 127, 161],\n",
       "        [ 80, 128, 162],\n",
       "        [ 81, 129, 163],\n",
       "        ...,\n",
       "        [ 26,  52,  68],\n",
       "        [ 25,  51,  68],\n",
       "        [ 23,  49,  65]],\n",
       "\n",
       "       ...,\n",
       "\n",
       "       [[147, 172, 198],\n",
       "        [141, 166, 192],\n",
       "        [126, 151, 177],\n",
       "        ...,\n",
       "        [128, 158, 187],\n",
       "        [127, 157, 186],\n",
       "        [120, 150, 179]],\n",
       "\n",
       "       [[146, 171, 197],\n",
       "        [144, 169, 195],\n",
       "        [134, 159, 185],\n",
       "        ...,\n",
       "        [144, 174, 201],\n",
       "        [143, 173, 200],\n",
       "        [136, 166, 193]],\n",
       "\n",
       "       [[155, 180, 206],\n",
       "        [154, 179, 205],\n",
       "        [147, 172, 198],\n",
       "        ...,\n",
       "        [132, 162, 189],\n",
       "        [131, 161, 188],\n",
       "        [124, 154, 181]]], shape=(406, 612, 3), dtype=uint8)"
      ]
     },
     "execution_count": 7,
     "metadata": {},
     "output_type": "execute_result"
    }
   ],
   "source": [
    "image1"
   ]
  },
  {
   "cell_type": "code",
   "execution_count": 8,
   "id": "7a5ef83f",
   "metadata": {},
   "outputs": [
    {
     "data": {
      "text/plain": [
       "(406, 612, 3)"
      ]
     },
     "execution_count": 8,
     "metadata": {},
     "output_type": "execute_result"
    }
   ],
   "source": [
    "image1.shape"
   ]
  },
  {
   "cell_type": "code",
   "execution_count": 16,
   "id": "7b491653",
   "metadata": {},
   "outputs": [],
   "source": [
    "b,g,r = cv2.split(image1)\n",
    "k = np.zeros_like(b)\n",
    "b_only = cv2.merge([b,k,k])\n",
    "g_only = cv2.merge([k,g,k])\n",
    "r_only = cv2.merge([k,k,r])\n",
    "\n",
    "cv2.imshow(\"red\",r_only)\n",
    "cv2.imshow(\"green\",g_only)\n",
    "cv2.imshow(\"blue\",b_only)\n",
    "cv2.waitKey(0)\n",
    "cv2.destroyAllWindows()"
   ]
  },
  {
   "cell_type": "code",
   "execution_count": 18,
   "id": "214c43ba",
   "metadata": {},
   "outputs": [],
   "source": [
    "b,g,r= cv2.split(image1)\n",
    "a.shape\n",
    "b.shape\n",
    "c.shape\n",
    "cv2.imshow(\"blue\",b)\n",
    "\n",
    "cv2.waitKey(0)\n",
    "cv2.destroyAllWindows()"
   ]
  },
  {
   "cell_type": "code",
   "execution_count": 12,
   "id": "d47ccf55",
   "metadata": {},
   "outputs": [],
   "source": [
    "k=np.zeros_like(b).shape"
   ]
  },
  {
   "cell_type": "code",
   "execution_count": 34,
   "id": "7e5256e2",
   "metadata": {},
   "outputs": [
    {
     "data": {
      "text/plain": [
       "array([[134.694, 131.694, 125.694, ...,  64.261,  62.261,  60.261],\n",
       "       [132.694, 132.694, 129.694, ...,  59.891,  57.902,  55.891],\n",
       "       [131.694, 132.694, 133.694, ...,  53.82 ,  53.119,  50.82 ],\n",
       "       ...,\n",
       "       [176.924, 170.924, 155.924, ..., 163.251, 162.251, 155.251],\n",
       "       [175.924, 173.924, 163.924, ..., 178.653, 177.653, 170.653],\n",
       "       [184.924, 183.924, 176.924, ..., 166.653, 165.653, 158.653]],\n",
       "      shape=(406, 612))"
      ]
     },
     "execution_count": 34,
     "metadata": {},
     "output_type": "execute_result"
    }
   ],
   "source": [
    "b.shape, b_only.shape\n",
    "\n",
    "Gray = 0.114 * b + 0.587 * g + 0.299 * r\n",
    "Gray"
   ]
  },
  {
   "cell_type": "code",
   "execution_count": 38,
   "id": "6cecae6e",
   "metadata": {},
   "outputs": [
    {
     "name": "stdout",
     "output_type": "stream",
     "text": [
      "Gray Image Size :  (406, 612)\n"
     ]
    }
   ],
   "source": [
    "gray=cv2.cvtColor(image1, cv2.COLOR_BGR2GRAY)\n",
    "\n",
    "cv2.imshow(\"color\",image1)\n",
    "cv2.imshow(\"Gray\", gray)\n",
    "print('Gray Image Size : ',Gray.shape)\n",
    "\n",
    "cv2.waitKey(0)\n",
    "cv2.destroyAllWindows()"
   ]
  },
  {
   "cell_type": "code",
   "execution_count": 26,
   "id": "6f2e418c",
   "metadata": {},
   "outputs": [
    {
     "data": {
      "text/plain": [
       "array([[135, 132, 126, ...,  64,  62,  60],\n",
       "       [133, 133, 130, ...,  60,  58,  56],\n",
       "       [132, 133, 134, ...,  54,  53,  51],\n",
       "       ...,\n",
       "       [177, 171, 156, ..., 163, 162, 155],\n",
       "       [176, 174, 164, ..., 179, 178, 171],\n",
       "       [185, 184, 177, ..., 167, 166, 159]], shape=(406, 612), dtype=uint8)"
      ]
     },
     "execution_count": 26,
     "metadata": {},
     "output_type": "execute_result"
    }
   ],
   "source": [
    "gray==r\n",
    "gray.shape \n",
    "gray"
   ]
  },
  {
   "cell_type": "code",
   "execution_count": 27,
   "id": "945b8554",
   "metadata": {},
   "outputs": [
    {
     "data": {
      "text/plain": [
       "array([[164, 161, 155, ...,  81,  79,  77],\n",
       "       [162, 162, 159, ...,  75,  75,  71],\n",
       "       [161, 162, 163, ...,  68,  68,  65],\n",
       "       ...,\n",
       "       [198, 192, 177, ..., 187, 186, 179],\n",
       "       [197, 195, 185, ..., 201, 200, 193],\n",
       "       [206, 205, 198, ..., 189, 188, 181]], shape=(406, 612), dtype=uint8)"
      ]
     },
     "execution_count": 27,
     "metadata": {},
     "output_type": "execute_result"
    }
   ],
   "source": [
    "r"
   ]
  },
  {
   "cell_type": "code",
   "execution_count": 32,
   "id": "13303cec",
   "metadata": {},
   "outputs": [
    {
     "data": {
      "text/plain": [
       "array([[134.694, 131.694, 125.694, ...,  64.261,  62.261,  60.261],\n",
       "       [132.694, 132.694, 129.694, ...,  59.891,  57.902,  55.891],\n",
       "       [131.694, 132.694, 133.694, ...,  53.82 ,  53.119,  50.82 ],\n",
       "       ...,\n",
       "       [176.924, 170.924, 155.924, ..., 163.251, 162.251, 155.251],\n",
       "       [175.924, 173.924, 163.924, ..., 178.653, 177.653, 170.653],\n",
       "       [184.924, 183.924, 176.924, ..., 166.653, 165.653, 158.653]],\n",
       "      shape=(406, 612))"
      ]
     },
     "execution_count": 32,
     "metadata": {},
     "output_type": "execute_result"
    }
   ],
   "source": [
    "Gray = 0.114 * b + 0.587 * g + 0.299 * r\n",
    "Gray"
   ]
  },
  {
   "cell_type": "code",
   "execution_count": 30,
   "id": "eef1faa5",
   "metadata": {},
   "outputs": [
    {
     "data": {
      "text/plain": [
       "array([[135, 132, 126, ...,  64,  62,  60],\n",
       "       [133, 133, 130, ...,  60,  58,  56],\n",
       "       [132, 133, 134, ...,  54,  53,  51],\n",
       "       ...,\n",
       "       [177, 171, 156, ..., 163, 162, 155],\n",
       "       [176, 174, 164, ..., 179, 178, 171],\n",
       "       [185, 184, 177, ..., 167, 166, 159]], shape=(406, 612), dtype=uint8)"
      ]
     },
     "execution_count": 30,
     "metadata": {},
     "output_type": "execute_result"
    }
   ],
   "source": [
    "gray"
   ]
  },
  {
   "cell_type": "code",
   "execution_count": 37,
   "id": "99465ae1",
   "metadata": {},
   "outputs": [
    {
     "data": {
      "text/plain": [
       "array([[134, 131, 125, ...,  64,  62,  60],\n",
       "       [132, 132, 129, ...,  59,  57,  55],\n",
       "       [131, 132, 133, ...,  53,  53,  50],\n",
       "       ...,\n",
       "       [176, 170, 155, ..., 163, 162, 155],\n",
       "       [175, 173, 163, ..., 178, 177, 170],\n",
       "       [184, 183, 176, ..., 166, 165, 158]], shape=(406, 612), dtype=uint8)"
      ]
     },
     "execution_count": 37,
     "metadata": {},
     "output_type": "execute_result"
    }
   ],
   "source": [
    "gray_8bit = Gray.astype(np.uint8)\n",
    "gray_8bit"
   ]
  },
  {
   "cell_type": "code",
   "execution_count": 39,
   "id": "d350cf46",
   "metadata": {},
   "outputs": [
    {
     "name": "stdout",
     "output_type": "stream",
     "text": [
      "Gray Image Size :  (406, 612)\n"
     ]
    }
   ],
   "source": [
    "gray=cv2.cvtColor(image1, cv2.COLOR_BGR2GRAY)\n",
    "\n",
    "cv2.imshow(\"color\",image1)\n",
    "cv2.imshow(\"Gray\", gray)\n",
    "print('Gray Image Size : ',Gray.shape)\n",
    "\n",
    "cv2.waitKey(0)\n",
    "cv2.destroyAllWindows()"
   ]
  },
  {
   "cell_type": "code",
   "execution_count": 40,
   "id": "5de7795b",
   "metadata": {},
   "outputs": [],
   "source": [
    "#f\n",
    "cv2.imshow(\"original\",image1)\n",
    "flipped = cv2.flip(image1, 1)\n",
    "cv2.imshow(\"flipped horizontally\",flipped)\n",
    "flipped2 = cv2.flip(image1, 0)\n",
    "cv2.imshow(\"flipped vertically\",image1)\n",
    "cropped_image = image1[80:280, 150:330]\n",
    "cv2.imshow(\"Cropped\",cropped_image)\n",
    "\n",
    "cv2.waitKey(0)\n",
    "cv2.destroyAllWindows()"
   ]
  },
  {
   "cell_type": "code",
   "execution_count": null,
   "id": "9b511143",
   "metadata": {},
   "outputs": [],
   "source": []
  },
  {
   "cell_type": "code",
   "execution_count": null,
   "id": "2cdca6fe",
   "metadata": {},
   "outputs": [],
   "source": []
  },
  {
   "cell_type": "code",
   "execution_count": null,
   "id": "e31d4f0a",
   "metadata": {},
   "outputs": [],
   "source": []
  },
  {
   "cell_type": "code",
   "execution_count": null,
   "id": "54ee70a8",
   "metadata": {},
   "outputs": [],
   "source": []
  },
  {
   "cell_type": "code",
   "execution_count": null,
   "id": "666c5d12",
   "metadata": {},
   "outputs": [],
   "source": []
  }
 ],
 "metadata": {
  "kernelspec": {
   "display_name": "myenv",
   "language": "python",
   "name": "python3"
  },
  "language_info": {
   "codemirror_mode": {
    "name": "ipython",
    "version": 3
   },
   "file_extension": ".py",
   "mimetype": "text/x-python",
   "name": "python",
   "nbconvert_exporter": "python",
   "pygments_lexer": "ipython3",
   "version": "3.11.7"
  }
 },
 "nbformat": 4,
 "nbformat_minor": 5
}
